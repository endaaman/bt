{
 "cells": [
  {
   "cell_type": "code",
   "execution_count": 1,
   "id": "abe93111-f9f7-41fb-8def-fd49babfdc2b",
   "metadata": {},
   "outputs": [
    {
     "name": "stdout",
     "output_type": "stream",
     "text": [
      "デフォルトのフォント: ['Arial', 'DejaVu Sans', 'Liberation Sans', 'Bitstream Vera Sans', 'sans-serif']\n"
     ]
    }
   ],
   "source": [
    "import os\n",
    "import re\n",
    "\n",
    "import seaborn as sns\n",
    "import numpy as np\n",
    "import pandas as pd\n",
    "from sklearn import metrics as skmetrics\n",
    "import matplotlib.pyplot as plt\n",
    "from matplotlib import gridspec\n",
    "from matplotlib.font_manager import fontManager\n",
    "from IPython.display import display\n",
    "from ipywidgets import interact, FloatSlider\n",
    "\n",
    "\n",
    "sns.set_theme(style=\"ticks\", palette=\"tab10\")\n",
    "# sns.set_theme(style=\"white\")\n",
    "# plt.rcParams['font.family'] = 'DejaVu Sans'\n",
    "# plt.rcParams['font.family'] = 'Verdana'\n",
    "plt.rcParams['font.size'] = 10  \n",
    "plt.rcParams['axes.labelsize'] = 12  \n",
    "plt.rcParams['axes.titlesize'] = 14  \n",
    "plt.rcParams['xtick.labelsize'] = 10  \n",
    "plt.rcParams['ytick.labelsize'] = 10 \n",
    "\n",
    "os.makedirs('out/figs', exist_ok=True)\n",
    "\n",
    "print(f\"デフォルトのフォント: {plt.rcParams['font.sans-serif']}\")\n",
    "# print(', '.join(sorted(list(set([font.name for font in fontManager.ttflist if not font.name.startswith('Noto')])))))\n",
    "\n",
    "\n",
    "# def show_pal0(palette):\n",
    "#     sns.palplot(sns.color_palette(palette, 24))\n",
    "#     print(palette)\n",
    "# interact(show_pal0, palette='deep muted pastel bright dark colorblind'.split());"
   ]
  },
  {
   "cell_type": "markdown",
   "id": "d6936b38-5106-4379-a015-e253404e31f7",
   "metadata": {},
   "source": [
    "## Table2\n",
    "\n",
    "Compare metrics between conditions"
   ]
  },
  {
   "cell_type": "code",
   "execution_count": 2,
   "id": "007241f3-ea98-45f2-be0d-38a02f4e27e9",
   "metadata": {},
   "outputs": [
    {
     "ename": "NameError",
     "evalue": "name 'metrics' is not defined",
     "output_type": "error",
     "traceback": [
      "\u001b[0;31m---------------------------------------------------------------------------\u001b[0m",
      "\u001b[0;31mNameError\u001b[0m                                 Traceback (most recent call last)",
      "Cell \u001b[0;32mIn[2], line 9\u001b[0m\n\u001b[1;32m      7\u001b[0m vvv \u001b[38;5;241m=\u001b[39m df[df[\u001b[38;5;124m'\u001b[39m\u001b[38;5;124mlabel\u001b[39m\u001b[38;5;124m'\u001b[39m] \u001b[38;5;241m==\u001b[39m l]\n\u001b[1;32m      8\u001b[0m ss \u001b[38;5;241m=\u001b[39m {}\n\u001b[0;32m----> 9\u001b[0m \u001b[38;5;28;01mfor\u001b[39;00m m \u001b[38;5;129;01min\u001b[39;00m \u001b[43mmetrics\u001b[49m:\n\u001b[1;32m     10\u001b[0m     vv \u001b[38;5;241m=\u001b[39m vvv[m]\u001b[38;5;241m.\u001b[39mvalues\n\u001b[1;32m     11\u001b[0m     s \u001b[38;5;241m=\u001b[39m \u001b[38;5;124m'\u001b[39m\u001b[38;5;132;01m{:.3f}\u001b[39;00m\u001b[38;5;124m ± \u001b[39m\u001b[38;5;132;01m{:.3f}\u001b[39;00m\u001b[38;5;124m'\u001b[39m\u001b[38;5;241m.\u001b[39mformat(np\u001b[38;5;241m.\u001b[39mmean(vv), stats\u001b[38;5;241m.\u001b[39msem(vv))\n",
      "\u001b[0;31mNameError\u001b[0m: name 'metrics' is not defined"
     ]
    }
   ],
   "source": [
    "with pd.ExcelWriter('out/figs/table2_cv.xlsx') as w:\n",
    "    for limit in [10, 25, 100, 500]:\n",
    "        df = pd.read_excel('out/figs/results_cv.xlsx', sheet_name=f'{limit}', index_col=0)\n",
    "        data = []\n",
    "        labels = df['label'].unique()\n",
    "        for l in labels:\n",
    "            vvv = df[df['label'] == l]\n",
    "            ss = {}\n",
    "            for m in metrics:\n",
    "                vv = vvv[m].values\n",
    "                s = '{:.3f} ± {:.3f}'.format(np.mean(vv), stats.sem(vv))\n",
    "                ss[m] = s\n",
    "            data.append(ss)\n",
    "        df2 = pd.DataFrame(data, index=labels)\n",
    "        df2.to_excel(w, sheet_name=f'{limit}')\n",
    "        w.sheets[f'{limit}'].set_column('A:A', 20)\n",
    "        w.sheets[f'{limit}'].set_column('B:Z', 12)\n",
    "\n",
    "print('wrote out/figs/table2_cv.xlsx')\n",
    "df2"
   ]
  },
  {
   "cell_type": "markdown",
   "id": "912594c8-7417-4798-bc4c-3c836251cd8a",
   "metadata": {},
   "source": [
    "## Paired t-test\n",
    "\n",
    "### 100 patches/case"
   ]
  },
  {
   "cell_type": "code",
   "execution_count": null,
   "id": "b1fb49e0-43aa-488d-b897-ef041d3e408b",
   "metadata": {},
   "outputs": [],
   "source": [
    "from statsmodels.stats.multitest import multipletests\n",
    "\n",
    "def paired_box(df, target, title=None, verbose=False):\n",
    "    n_folds, n_models = 5, len(df)//5\n",
    "\n",
    "    df_mean = df.groupby('cond')[target].mean().sort_values(ascending=True)\n",
    "    df[f'average_{target}'] = df['cond'].map(df_mean)\n",
    "    df = df.sort_values([f'average_{target}', 'fold'], ascending=[True, True])\n",
    "    labels = df['label'].unique()\n",
    "\n",
    "    fig, (ax1, ax2) = plt.subplots(2, 1, figsize=(7, 10), gridspec_kw={'height_ratios': [3, 1]})\n",
    "    plt.subplots_adjust(hspace=0.3)\n",
    "    \n",
    "    # ボックスプロットの作成\n",
    "    sns.boxplot(x='label', hue='label', y=target, data=df, palette='Set3', legend=False, ax=ax1)\n",
    "\n",
    "    \n",
    "    # foldごとにつないでプロット\n",
    "    for fold in range(n_folds):\n",
    "        fold_data = df[df['fold'] == fold]\n",
    "        ax1.plot(range(n_models), fold_data[target], 'k-', alpha=0.2, linewidth=1)\n",
    "\n",
    "    for i, label in enumerate(labels):\n",
    "        ax1.scatter([i] * n_folds, df[df['label'] == label][target], color='black', s=10, zorder=3)\n",
    "\n",
    "    # 平均をプロット\n",
    "    ax1.plot(range(n_models), df_mean, 'firebrick', linewidth=1, zorder=4, alpha=0.3)\n",
    "    ax1.scatter(range(n_models), df_mean, color='firebrick', s=50, zorder=5, label='Mean')\n",
    "\n",
    "    ax1.set_title(target)\n",
    "    ax1.set_xticks(range(len(labels)))\n",
    "    ax1.set_xticklabels(labels, rotation=45, ha='right')\n",
    "    ax1.set_xlabel('')\n",
    "    ax1.set_ylabel(target)\n",
    "\n",
    "    p_values = []\n",
    "    for i in range(n_models):\n",
    "        for j in range(i+1, n_models):\n",
    "            a = df[df['label']==labels[i]][target]\n",
    "            b = df[df['label']==labels[j]][target]\n",
    "            t_stat, p_value = stats.ttest_rel(a, b)\n",
    "            p_values.append(p_value)\n",
    "    \n",
    "    # Benjamini-Hochberg法による多重検定の補正\n",
    "    _, p_corrected, _, _ = multipletests(p_values, method='fdr_bh')\n",
    "    # p_corrected = p_values\n",
    "       \n",
    "    sig_matrix = np.zeros((n_models, n_models))\n",
    "    k = 0\n",
    "    for i in range(n_models):\n",
    "        for j in range(i+1, n_models):\n",
    "            sig_matrix[j, i] = -np.log10(p_corrected[k])  # 左下三角形に値を設定\n",
    "            k += 1\n",
    "\n",
    "        \n",
    "    # マスクの作成（下三角形のみを表示）\n",
    "    mask = np.triu(np.ones_like(sig_matrix, dtype=bool), k=0)\n",
    "    \n",
    "    # ヒートマップの作成\n",
    "    heatmap = sns.heatmap(sig_matrix, mask=mask, annot=True, fmt='.2f', cmap='YlOrRd', \n",
    "                ax=ax2, cbar_kws={'label': '-log10(p-value)'}, vmin=0.0, vmax=3.0)\n",
    "    ax2.set_xticklabels(labels, rotation=45, ha='right')\n",
    "    ax2.set_yticklabels(labels, rotation=0)\n",
    "    ax2.set_title('Statistical Significance (FDR corrected)')\n",
    "    ax2.set_xlabel('Model')\n",
    "    ax2.set_ylabel('Model')\n",
    "    \n",
    "    cbar_pos = heatmap.collections[0].colorbar.ax.get_position()\n",
    "    plt.tight_layout()\n",
    "    ax1_pos = ax1.get_position()\n",
    "    ax2_pos = ax2.get_position()\n",
    "    new_width = cbar_pos.x0 - ax2_pos.x0\n",
    "    ax1.set_position([ax1_pos.x0, ax1_pos.y0, new_width, ax1_pos.height])\n",
    "    ax2.set_position([ax2_pos.x0, ax2_pos.y0, new_width, ax2_pos.height])\n",
    "\n",
    "\n",
    "\n",
    "df_100 = pd.read_excel('out/figs/results_cv.xlsx', sheet_name='100', index_col=0)\n",
    "paired_box(df_100, 'Accuracy(Patch)', verbose=False)\n",
    "plt.savefig(\"out/figs/fig3_100_pacc.png\", format=\"png\", dpi=300)\n",
    "plt.show()"
   ]
  },
  {
   "cell_type": "markdown",
   "id": "2dacc98e-832a-4d4f-ae64-5c84021d4d47",
   "metadata": {},
   "source": [
    "fig2: 異なるモデルのパッチレベル精度の比較と統計的有意差\n",
    "\n",
    "(A) 7つの異なる深層学習モデルのパッチレベル精度をボックスプロットで示す。各ボックスは四分位範囲を、ひげは1.5倍の四分位範囲内のデータ範囲を示す。外れ値は個別の点として表示。黒い点は個々のフォールドのスコアを、赤い点は平均値を示す。モデルは平均精度の昇順に左から右へ配置。\n",
    "\n",
    "(B) モデル間のパッチレベル精度の統計的有意差をヒートマップで示す。色の濃さと数値は-log10(補正済みp値)を表し、値が大きいほど強い有意差を示す。p値はペアワイズのt検定（両側）で算出し、Benjamini-Hochberg法で多重比較補正を適用。ヒートマップの各セルは、行のモデルと列のモデルの比較を表す。-log10(p値) > 1.30は5%水準で有意 (p < 0.05)、> 2は1%水準で有意 (p < 0.01)、> 3は0.1%水準で極めて有意 (p < 0.001) を示す。\n",
    "\n",
    "UNIとGigaPathモデルがCTransPathを上回った(p<0.05)、およびBaselineモデルsを大きく上回った。CTransPathは\n",
    "\n",
    "大きく3つのグループに分けることができ、下位はBaselineモデルであるVIT-L(Enc+FC)とResNet-RS 50(Enc+FC)およびCTransPath(FC)が入り、中位にCTransPath(Enc+FC)、上位にUNI(Enc+FC)とUNI(FC)とProv-GigaPath(FC)と分けることができる。\n",
    "\n",
    "CTransPathはこれまでのINのpretrainedよりは良いベースラインとして位置していることがわかる。しかし最も注目に値するのは、UNI(FC)がCTransPath(Enc+FC)を上回り、new generationのfoundation modelsのfinetune(Enc+FC)条件と同等の精度を示したことである。\n",
    "\n",
    "macroレベルのAccuracyとF1 scoreでは差は得られなかった。　"
   ]
  },
  {
   "cell_type": "code",
   "execution_count": null,
   "id": "af0bba57-2e12-492e-9d3a-555af0a979e2",
   "metadata": {},
   "outputs": [],
   "source": [
    "paired_box(df_100, 'Accuracy', verbose=False)\n",
    "plt.savefig(\"out/figs/fig3_100_acc.png\", format=\"png\", dpi=300)\n",
    "plt.show()"
   ]
  },
  {
   "cell_type": "code",
   "execution_count": null,
   "id": "39d8a6ec-25df-466d-91c9-e834bd8d4a91",
   "metadata": {},
   "outputs": [],
   "source": [
    "paired_box(df_100, 'F1 score', verbose=False)\n",
    "plt.savefig(\"out/figs/fig3_100_f1.png\", format=\"png\", dpi=300)\n",
    "plt.show()"
   ]
  },
  {
   "cell_type": "code",
   "execution_count": null,
   "id": "2330bfcf-f6dc-4269-8804-d9baeaa885ec",
   "metadata": {},
   "outputs": [],
   "source": [
    "# 500 patches/case"
   ]
  },
  {
   "cell_type": "code",
   "execution_count": null,
   "id": "2af81a76-dce5-41e0-8b2a-3fabf3824e79",
   "metadata": {},
   "outputs": [],
   "source": [
    "df_500 = pd.read_excel('out/figs/results_cv.xlsx', sheet_name='500', index_col=0)\n",
    "paired_box(df_500, 'Accuracy(Patch)', verbose=False)\n",
    "plt.savefig(\"out/figs/fig3_500_pacc.png\", format=\"png\", dpi=300)\n",
    "plt.show()"
   ]
  },
  {
   "cell_type": "markdown",
   "id": "09d1d9cc-ea92-4290-8893-38f30ddf6697",
   "metadata": {},
   "source": [
    "# 25 patches/case"
   ]
  },
  {
   "cell_type": "code",
   "execution_count": null,
   "id": "28b077c9-9ac3-44e3-8cc5-5f8944eebc2b",
   "metadata": {},
   "outputs": [],
   "source": [
    "df_25 = pd.read_excel('out/figs/results_cv.xlsx', sheet_name='25', index_col=0)\n",
    "paired_box(df_25, 'Accuracy(Patch)', verbose=False)\n",
    "plt.savefig(\"out/figs/fig3_25_pacc.png\", format=\"png\", dpi=300)\n",
    "plt.show()"
   ]
  },
  {
   "cell_type": "markdown",
   "id": "d977ccbe-483a-4684-80f8-51b4d2e692e5",
   "metadata": {},
   "source": [
    "# 10 patches/case"
   ]
  },
  {
   "cell_type": "code",
   "execution_count": null,
   "id": "b8bf589d-de38-4d0a-8c28-a0c44f93845f",
   "metadata": {},
   "outputs": [],
   "source": [
    "df_10 = pd.read_excel('out/figs/results_cv.xlsx', sheet_name='10', index_col=0)\n",
    "paired_box(df_10, 'Accuracy(Patch)', verbose=False)\n",
    "plt.savefig(\"out/figs/fig3_10_pacc.png\", format=\"png\", dpi=300)\n",
    "plt.show()"
   ]
  },
  {
   "cell_type": "code",
   "execution_count": null,
   "id": "eb16124a-69cd-416d-a30f-9b8c96a74876",
   "metadata": {},
   "outputs": [],
   "source": [
    "paired_box(df_10, 'Accuracy', verbose=False)\n",
    "plt.savefig(\"out/figs/fig3_10_acc.png\", format=\"png\", dpi=300)\n",
    "plt.show()"
   ]
  },
  {
   "cell_type": "code",
   "execution_count": null,
   "id": "2a6d5326-57d4-4def-beab-3d903f02684d",
   "metadata": {},
   "outputs": [],
   "source": [
    "paired_box(df_10, 'F1 score', verbose=False)\n",
    "plt.savefig(\"out/figs/fig3_10_f1.png\", format=\"png\", dpi=300)\n",
    "plt.show()"
   ]
  },
  {
   "cell_type": "code",
   "execution_count": null,
   "id": "8450de31-cd84-4aec-9756-c148f1c28493",
   "metadata": {},
   "outputs": [],
   "source": [
    "def get_metrics(cond, label=True):\n",
    "    global cache\n",
    "    cache = {}\n",
    "    mm = {}\n",
    "    for k, fn in metrics.items():\n",
    "        m = []\n",
    "        for fold in range(5):\n",
    "            p = f'out/compare/LMGAOB/fold5_{fold}/{cond}/test/report.xlsx'\n",
    "            df = load_df(p)\n",
    "            try:\n",
    "                value = fn(df)\n",
    "            except Exception as e:\n",
    "                print('Error in', p)\n",
    "                print(df)\n",
    "                raise e\n",
    "            m.append(value)\n",
    "        mm[k] = m\n",
    "    return mm\n",
    "\n",
    "\n",
    "def summary_cond(cond, label=None):\n",
    "    if label is None:\n",
    "        label = cond\n",
    "    m = get_metrics(cond)\n",
    "    df = pd.DataFrame(m)\n",
    "    # df = pd.concat([pd.DataFrame([{'cond': cond}]*5), df])\n",
    "    cond_org = remove_suffix(cond, '_1e-5')\n",
    "    limit = int(re.match(r'^.*_(\\d+)$', cond_org)[1])\n",
    "    df = pd.DataFrame([{'cond': cond, 'limit': limit, 'label': label}]*5).join(df)\n",
    "    df = df.reset_index().rename(columns={'index': 'fold'})\n",
    "    return df"
   ]
  },
  {
   "cell_type": "markdown",
   "id": "21dbf001-2f75-4ec8-8229-4d66d2519cb9",
   "metadata": {},
   "source": [
    "#### fig4\n",
    "\n",
    "This fig shows the impact of patch number per case on model performace"
   ]
  },
  {
   "cell_type": "code",
   "execution_count": null,
   "id": "027e3f33-bcb2-430c-8e81-8194faa26069",
   "metadata": {},
   "outputs": [],
   "source": [
    "def draw_lines(target, labels=None):\n",
    "    colors = plt.rcParams['axes.prop_cycle'].by_key()['color']\n",
    "    \n",
    "    limits = [10, 25, 100, 500]\n",
    "    alpha = 0.05\n",
    "    \n",
    "    values_by_limit = []\n",
    "\n",
    "    for limit in limits:\n",
    "        values = []\n",
    "        df = pd.read_excel('out/figs/results_cv.xlsx', sheet_name=f'{limit}', index_col=0)\n",
    "\n",
    "        if labels is None:\n",
    "            if limit == limits[0]:\n",
    "                # sort on 10 limit\n",
    "                df_mean = df.groupby('label')[target].mean().sort_values(ascending=True)\n",
    "                df[f'average_{target}'] = df['label'].map(df_mean)\n",
    "                df = df.sort_values([f'average_{target}', 'fold'], ascending=[True, True])\n",
    "                labels = df['label'].unique()[::-1]\n",
    "\n",
    "        for label in labels:\n",
    "            scores = df[df['label']==label][target]\n",
    "            mean = np.mean(scores)\n",
    "            diff = stats.sem(scores)\n",
    "            # CI\n",
    "            # diff = stats.t.interval(1 - alpha, df=len(scores)-1, loc=mean, scale=diff)[1] - mean\n",
    "            values.append([mean, mean-diff, mean+diff])\n",
    "        values_by_limit.append(values)    \n",
    "    values_by_cond = np.array(values_by_limit).transpose(1, 0, 2)\n",
    "    \n",
    "    plt.figure(figsize=(5, 7))\n",
    "    x = np.arange(1, 1+len(limits))\n",
    "    \n",
    "    for i in range(len(labels)):\n",
    "        ci_l = values_by_cond[i, :, 1]\n",
    "        ci_h = values_by_cond[i, :, 2]\n",
    "        c = colors[i]\n",
    "        plt.plot(x, values_by_cond[i, :, 0], color=c, label=labels[i])\n",
    "        # plt.fill_between(x, ci_l, ci_h, color=c, alpha=0.1)\n",
    "    \n",
    "    plt.xticks(x, limits)\n",
    "    plt.xlabel('Patch count per case')\n",
    "    plt.ylabel(target)\n",
    "    plt.legend(loc='lower right')\n",
    "    plt.title(target)\n",
    "    # plt.grid(True, linestyle='--', alpha=0.7)\n",
    "    \n",
    "    plt.tight_layout()\n",
    "    return labels\n",
    "\n",
    "labels = [\n",
    "    'UNI(Enc+FC)',\n",
    "    'Prov-GigaPath(FC)',\n",
    "    'UNI(FC)',\n",
    "    'CTransPath(Enc+FC)',\n",
    "    'CTransPath(FC)',\n",
    "    'VIT-L$\\\\mathrm{_{IN}}$(Enc+FC)',\n",
    "    'ResNet-RS 50$\\\\mathrm{_{IN}}$(Enc+FC)',\n",
    "]\n",
    "draw_lines('Accuracy(Patch)', labels)\n",
    "plt.savefig(f\"out/figs/fig4_pacc.png\", format=\"png\", dpi=300)\n",
    "plt.show()"
   ]
  },
  {
   "cell_type": "code",
   "execution_count": null,
   "id": "869cf2e0-2f61-4f44-bdf6-0b99848cacf0",
   "metadata": {},
   "outputs": [],
   "source": [
    "draw_lines('Accuracy', labels)\n",
    "plt.savefig(f\"out/figs/fig4_acc.png\", format=\"png\", dpi=300)\n",
    "plt.show()"
   ]
  },
  {
   "cell_type": "code",
   "execution_count": null,
   "id": "e85436a2-29eb-4520-bd32-c6820e9cc1e2",
   "metadata": {},
   "outputs": [],
   "source": [
    "draw_lines('F1 score', labels)\n",
    "plt.savefig(f\"out/figs/fig4_f1.png\", format=\"png\", dpi=300)\n",
    "plt.show()"
   ]
  }
 ],
 "metadata": {
  "kernelspec": {
   "display_name": "Python 3 (ipykernel)",
   "language": "python",
   "name": "python3"
  },
  "language_info": {
   "codemirror_mode": {
    "name": "ipython",
    "version": 3
   },
   "file_extension": ".py",
   "mimetype": "text/x-python",
   "name": "python",
   "nbconvert_exporter": "python",
   "pygments_lexer": "ipython3",
   "version": "3.12.6"
  }
 },
 "nbformat": 4,
 "nbformat_minor": 5
}
