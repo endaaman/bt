{
 "cells": [
  {
   "cell_type": "code",
   "execution_count": null,
   "id": "727ae2b4-84c7-49e5-a385-ffa634bc77a9",
   "metadata": {},
   "outputs": [],
   "source": [
    "import os\n",
    "import re\n",
    "import sys\n",
    "\n",
    "import numpy as np\n",
    "import numpy as np\n",
    "import pandas as pd\n",
    "import seaborn as sns\n",
    "from sklearn import metrics as skmetrics\n",
    "from scipy import stats\n",
    "import matplotlib.pyplot as plt\n",
    "from matplotlib import gridspec\n",
    "from matplotlib.font_manager import fontManager\n",
    "from IPython.display import display\n",
    "from ipywidgets import interact, FloatSlider\n",
    "from umap import UMAP\n",
    "import ipynbname\n",
    "from endaaman.ml import fix_global_seed\n",
    "\n",
    "fix_global_seed()\n",
    "\n",
    "project_root = os.path.abspath(os.path.join(os.path.dirname(ipynbname.path()), '..'))\n",
    "if project_root not in sys.path:\n",
    "    sys.path.insert(0, project_root)\n",
    "os.chdir(project_root)\n",
    "print('now working', project_root)\n",
    "\n",
    "\n",
    "sns.set_theme(style='ticks', palette='tab10')\n",
    "plt.rcParams.update({\n",
    "    'font.size': 14,\n",
    "    'axes.titlesize': 18,\n",
    "    'axes.labelsize': 16,\n",
    "    'xtick.labelsize': 14,\n",
    "    'ytick.labelsize': 14,\n",
    "    'legend.fontsize': 16,\n",
    "    'figure.dpi': 300,\n",
    "})\n",
    "\n",
    "os.makedirs('out/figs', exist_ok=True)\n"
   ]
  },
  {
   "cell_type": "code",
   "execution_count": null,
   "id": "169da624-127b-47f0-95ed-78dc7019230d",
   "metadata": {},
   "outputs": [],
   "source": [
    "# samples"
   ]
  }
 ],
 "metadata": {
  "kernelspec": {
   "display_name": "Python 3 (ipykernel)",
   "language": "python",
   "name": "python3"
  },
  "language_info": {
   "codemirror_mode": {
    "name": "ipython",
    "version": 3
   },
   "file_extension": ".py",
   "mimetype": "text/x-python",
   "name": "python",
   "nbconvert_exporter": "python",
   "pygments_lexer": "ipython3",
   "version": "3.12.7"
  }
 },
 "nbformat": 4,
 "nbformat_minor": 5
}
