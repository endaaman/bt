{
 "cells": [
  {
   "cell_type": "code",
   "execution_count": 1,
   "id": "73fc570a-1d12-422f-ac04-bd4f90e6f14d",
   "metadata": {},
   "outputs": [
    {
     "name": "stdout",
     "output_type": "stream",
     "text": [
      "now working /home/ken/src/github.com/endaaman/bt\n"
     ]
    }
   ],
   "source": [
    "import os\n",
    "import re\n",
    "import sys\n",
    "\n",
    "import numpy as np\n",
    "import numpy as np\n",
    "import pandas as pd\n",
    "import seaborn as sns\n",
    "from sklearn import metrics as skmetrics\n",
    "from scipy import stats\n",
    "import matplotlib.pyplot as plt\n",
    "from matplotlib import gridspec\n",
    "from matplotlib.font_manager import fontManager\n",
    "from IPython.display import display\n",
    "from ipywidgets import interact, FloatSlider\n",
    "from umap import UMAP\n",
    "import ipynbname\n",
    "from endaaman.ml import fix_global_seed\n",
    "\n",
    "project_root = os.path.abspath(os.path.join(os.path.dirname(ipynbname.path()), '..'))\n",
    "if project_root not in sys.path:\n",
    "    sys.path.insert(0, project_root)\n",
    "os.chdir(project_root)\n",
    "print('now working', project_root)\n",
    "\n",
    "DPI = 600\n",
    "\n",
    "sns.set_theme(style=\"ticks\", palette=\"tab10\")\n",
    "# sns.set_theme(style=\"white\")\n",
    "# plt.rcParams['font.family'] = 'DejaVu Sans'\n",
    "# plt.rcParams['font.family'] = 'Verdana'\n",
    "plt.rcParams['font.size'] = 10  \n",
    "plt.rcParams['axes.labelsize'] = 12  \n",
    "plt.rcParams['axes.titlesize'] = 14  \n",
    "plt.rcParams['xtick.labelsize'] = 10  \n",
    "plt.rcParams['ytick.labelsize'] = 10 \n",
    "plt.rcParams['figure.dpi'] = DPI\n",
    "\n",
    "os.makedirs('out/figs', exist_ok=True)\n",
    "\n",
    "fix_global_seed()\n",
    "\n",
    "# print(f\"デフォルトのフォント: {plt.rcParams['font.sans-serif']}\")\n",
    "# print(', '.join(sorted(list(set([font.name for font in fontManager.ttflist if not font.name.startswith('Noto')])))))"
   ]
  },
  {
   "cell_type": "code",
   "execution_count": 2,
   "id": "1e8672fb-6102-4392-a00d-e8b90903d15e",
   "metadata": {},
   "outputs": [
    {
     "name": "stdout",
     "output_type": "stream",
     "text": [
      "Using cache: data/EBRAINS\n"
     ]
    }
   ],
   "source": [
    "from datasets.ebrains import EBRAINSDataset\n",
    "ds= EBRAINSDataset(crop_size=512, patch_size=224, normalization=False)\n",
    "os.makedirs('tmp/ebrains', exist_ok=True)"
   ]
  },
  {
   "cell_type": "code",
   "execution_count": 3,
   "id": "5db3bcfc-860f-487b-97f7-136621d7f3f6",
   "metadata": {},
   "outputs": [],
   "source": [
    "df = pd.DataFrame([i.asdict() for i in ds.items])"
   ]
  },
  {
   "cell_type": "code",
   "execution_count": 4,
   "id": "5f3208e6-37a6-4724-9127-cc0aa0e108d3",
   "metadata": {},
   "outputs": [
    {
     "name": "stdout",
     "output_type": "stream",
     "text": [
      "torch.Size([3, 224, 224]) 0\n"
     ]
    },
    {
     "ename": "NameError",
     "evalue": "name 'tensor_to_pil' is not defined",
     "output_type": "error",
     "traceback": [
      "\u001b[0;31m---------------------------------------------------------------------------\u001b[0m",
      "\u001b[0;31mNameError\u001b[0m                                 Traceback (most recent call last)",
      "Cell \u001b[0;32mIn[4], line 5\u001b[0m\n\u001b[1;32m      3\u001b[0m \u001b[38;5;28;01mfor\u001b[39;00m x, y, index \u001b[38;5;129;01min\u001b[39;00m ds:\n\u001b[1;32m      4\u001b[0m     \u001b[38;5;28mprint\u001b[39m(x\u001b[38;5;241m.\u001b[39mshape, y)\n\u001b[0;32m----> 5\u001b[0m     img \u001b[38;5;241m=\u001b[39m \u001b[43mtensor_to_pil\u001b[49m(x)\n\u001b[1;32m      6\u001b[0m     imgs\u001b[38;5;241m.\u001b[39mappend(img)\n\u001b[1;32m      7\u001b[0m     \u001b[38;5;66;03m# img.save(f'tmp/ebrains/{i}.png')\u001b[39;00m\n",
      "\u001b[0;31mNameError\u001b[0m: name 'tensor_to_pil' is not defined"
     ]
    }
   ],
   "source": [
    "i = 0\n",
    "imgs = []\n",
    "for x, y, index in ds:\n",
    "    print(x.shape, y)\n",
    "    img = tensor_to_pil(x)\n",
    "    imgs.append(img)\n",
    "    # img.save(f'tmp/ebrains/{i}.png')\n",
    "    i += 1\n",
    "    if i > 10:\n",
    "        break\n",
    "        \n",
    "def show_images(images, rows=2, figsize=(12, 4)):\n",
    "    n = len(images)\n",
    "    cols = math.ceil(n / rows)\n",
    "    \n",
    "    fig, axs = plt.subplots(rows, cols, figsize=figsize)\n",
    "    axs = axs.flatten()\n",
    "    \n",
    "    for i, img in enumerate(images):\n",
    "        axs[i].imshow(img)\n",
    "        axs[i].axis('off')\n",
    "\n",
    "    for j in range(i+1, len(axs)):\n",
    "        axs[j].axis('off')\n",
    "        axs[j].set_visible(False)\n",
    "    \n",
    "    plt.tight_layout()\n",
    "    plt.show()\n",
    "\n",
    "\n",
    "show_images(imgs)"
   ]
  }
 ],
 "metadata": {
  "kernelspec": {
   "display_name": "Python 3 (ipykernel)",
   "language": "python",
   "name": "python3"
  },
  "language_info": {
   "codemirror_mode": {
    "name": "ipython",
    "version": 3
   },
   "file_extension": ".py",
   "mimetype": "text/x-python",
   "name": "python",
   "nbconvert_exporter": "python",
   "pygments_lexer": "ipython3",
   "version": "3.12.7"
  }
 },
 "nbformat": 4,
 "nbformat_minor": 5
}
