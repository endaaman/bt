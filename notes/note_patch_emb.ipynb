version https://git-lfs.github.com/spec/v1
oid sha256:4e2f0278bccfd85e342b1a8d3ab4bf6d074e2bebe4a26724accda14c4c9559da
size 642018
